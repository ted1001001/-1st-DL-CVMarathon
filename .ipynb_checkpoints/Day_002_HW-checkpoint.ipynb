{
 "cells": [
  {
   "cell_type": "markdown",
   "metadata": {},
   "source": [
    "## [作業目標]\n",
    "了解機器學習適合應用的領域與範疇。"
   ]
  },
  {
   "cell_type": "markdown",
   "metadata": {},
   "source": [
    "## [作業重點]\n",
    "透過瞭解機器學習的運作方式，找出非常適用機器學習應用的領域及其原因"
   ]
  },
  {
   "cell_type": "markdown",
   "metadata": {},
   "source": [
    "## 作業\n",
    "請找出一個你認為機器學習可以發光發熱的領域並闡述原因? "
   ]
  },
  {
   "cell_type": "code",
   "execution_count": null,
   "metadata": {},
   "outputs": [],
   "source": [
    "\"\"\"\n",
    "我認為運用非常廣泛，這相當於賦予沒有生命的機器一顆大腦，機器開始有了分析及學習的能力，只有有用到機器的地方幾乎都能使用，\n",
    "我個人覺得運用大型工廠的自動化機器中很有未來性，工廠的機器最麻煩的部分就是機台可能會發生小異常而終止程序，但這些異常可能\n",
    "只需要人員按個按鈕就能解除，我覺得能透過機器學習，讓機器能自動學習處理簡單的異常狀況，並且學習檢測當下的異常，一旦經過多\n",
    "次的學習，機器的功能將越來越多，能夠變得更方便。\n",
    "\"\"\""
   ]
  }
 ],
 "metadata": {
  "kernelspec": {
   "display_name": "Python 3",
   "language": "python",
   "name": "python3"
  },
  "language_info": {
   "codemirror_mode": {
    "name": "ipython",
    "version": 3
   },
   "file_extension": ".py",
   "mimetype": "text/x-python",
   "name": "python",
   "nbconvert_exporter": "python",
   "pygments_lexer": "ipython3",
   "version": "3.8.3"
  }
 },
 "nbformat": 4,
 "nbformat_minor": 2
}
